{
 "cells": [
  {
   "cell_type": "markdown",
   "metadata": {},
   "source": [
    "## Importing Libraries & Dataset"
   ]
  },
  {
   "cell_type": "code",
   "execution_count": 1,
   "metadata": {},
   "outputs": [],
   "source": [
    "import numpy as np\n",
    "import pandas as pd\n",
    "import matplotlib.pyplot as plt\n",
    "import seaborn as sns\n",
    "from collections import Counter\n",
    "from sklearn.preprocessing import StandardScaler\n",
    "from sklearn.model_selection import train_test_split, cross_val_score, GridSearchCV\n",
    "from sklearn.linear_model import LogisticRegression\n",
    "from sklearn.neighbors import KNeighborsClassifier\n",
    "from sklearn.svm import SVC\n",
    "from sklearn.tree import DecisionTreeClassifier\n",
    "from sklearn.ensemble import RandomForestClassifier, ExtraTreesClassifier, VotingClassifier, AdaBoostClassifier\n",
    "from sklearn.ensemble import GradientBoostingClassifier\n",
    "from sklearn.metrics import accuracy_score"
   ]
  },
  {
   "cell_type": "code",
   "execution_count": 2,
   "metadata": {},
   "outputs": [],
   "source": [
    "train = pd.readcsv('train.csv')"
   ]
  },
  {
   "cell_type": "code",
   "execution_count": 3,
   "metadata": {
    "scrolled": true
   },
   "outputs": [
    {
     "name": "stdout",
     "output_type": "stream",
     "text": [
      "<class 'pandas.core.frame.DataFrame'>\n",
      "RangeIndex: 891 entries, 0 to 890\n",
      "Data columns (total 12 columns):\n",
      " #   Column       Non-Null Count  Dtype  \n",
      "---  ------       --------------  -----  \n",
      " 0   PassengerId  891 non-null    int64  \n",
      " 1   Survived     891 non-null    int64  \n",
      " 2   Pclass       891 non-null    int64  \n",
      " 3   Name         891 non-null    object \n",
      " 4   Sex          891 non-null    object \n",
      " 5   Age          714 non-null    float64\n",
      " 6   SibSp        891 non-null    int64  \n",
      " 7   Parch        891 non-null    int64  \n",
      " 8   Ticket       891 non-null    object \n",
      " 9   Fare         891 non-null    float64\n",
      " 10  Cabin        204 non-null    object \n",
      " 11  Embarked     889 non-null    object \n",
      "dtypes: float64(2), int64(5), object(5)\n",
      "memory usage: 83.7+ KB\n"
     ]
    }
   ],
   "source": [
    "train.info()"
   ]
  },
  {
   "cell_type": "code",
   "execution_count": 4,
   "metadata": {},
   "outputs": [
    {
     "data": {
      "text/html": [
       "<div>\n",
       "<style scoped>\n",
       "    .dataframe tbody tr th:only-of-type {\n",
       "        vertical-align: middle;\n",
       "    }\n",
       "\n",
       "    .dataframe tbody tr th {\n",
       "        vertical-align: top;\n",
       "    }\n",
       "\n",
       "    .dataframe thead th {\n",
       "        text-align: right;\n",
       "    }\n",
       "</style>\n",
       "<table border=\"1\" class=\"dataframe\">\n",
       "  <thead>\n",
       "    <tr style=\"text-align: right;\">\n",
       "      <th></th>\n",
       "      <th>PassengerId</th>\n",
       "      <th>Survived</th>\n",
       "      <th>Pclass</th>\n",
       "      <th>Name</th>\n",
       "      <th>Sex</th>\n",
       "      <th>Age</th>\n",
       "      <th>SibSp</th>\n",
       "      <th>Parch</th>\n",
       "      <th>Ticket</th>\n",
       "      <th>Fare</th>\n",
       "      <th>Cabin</th>\n",
       "      <th>Embarked</th>\n",
       "    </tr>\n",
       "  </thead>\n",
       "  <tbody>\n",
       "    <tr>\n",
       "      <th>0</th>\n",
       "      <td>1</td>\n",
       "      <td>0</td>\n",
       "      <td>3</td>\n",
       "      <td>Braund, Mr. Owen Harris</td>\n",
       "      <td>male</td>\n",
       "      <td>22.0</td>\n",
       "      <td>1</td>\n",
       "      <td>0</td>\n",
       "      <td>A/5 21171</td>\n",
       "      <td>7.2500</td>\n",
       "      <td>NaN</td>\n",
       "      <td>S</td>\n",
       "    </tr>\n",
       "    <tr>\n",
       "      <th>1</th>\n",
       "      <td>2</td>\n",
       "      <td>1</td>\n",
       "      <td>1</td>\n",
       "      <td>Cumings, Mrs. John Bradley (Florence Briggs Th...</td>\n",
       "      <td>female</td>\n",
       "      <td>38.0</td>\n",
       "      <td>1</td>\n",
       "      <td>0</td>\n",
       "      <td>PC 17599</td>\n",
       "      <td>71.2833</td>\n",
       "      <td>C85</td>\n",
       "      <td>C</td>\n",
       "    </tr>\n",
       "    <tr>\n",
       "      <th>2</th>\n",
       "      <td>3</td>\n",
       "      <td>1</td>\n",
       "      <td>3</td>\n",
       "      <td>Heikkinen, Miss. Laina</td>\n",
       "      <td>female</td>\n",
       "      <td>26.0</td>\n",
       "      <td>0</td>\n",
       "      <td>0</td>\n",
       "      <td>STON/O2. 3101282</td>\n",
       "      <td>7.9250</td>\n",
       "      <td>NaN</td>\n",
       "      <td>S</td>\n",
       "    </tr>\n",
       "    <tr>\n",
       "      <th>3</th>\n",
       "      <td>4</td>\n",
       "      <td>1</td>\n",
       "      <td>1</td>\n",
       "      <td>Futrelle, Mrs. Jacques Heath (Lily May Peel)</td>\n",
       "      <td>female</td>\n",
       "      <td>35.0</td>\n",
       "      <td>1</td>\n",
       "      <td>0</td>\n",
       "      <td>113803</td>\n",
       "      <td>53.1000</td>\n",
       "      <td>C123</td>\n",
       "      <td>S</td>\n",
       "    </tr>\n",
       "    <tr>\n",
       "      <th>4</th>\n",
       "      <td>5</td>\n",
       "      <td>0</td>\n",
       "      <td>3</td>\n",
       "      <td>Allen, Mr. William Henry</td>\n",
       "      <td>male</td>\n",
       "      <td>35.0</td>\n",
       "      <td>0</td>\n",
       "      <td>0</td>\n",
       "      <td>373450</td>\n",
       "      <td>8.0500</td>\n",
       "      <td>NaN</td>\n",
       "      <td>S</td>\n",
       "    </tr>\n",
       "  </tbody>\n",
       "</table>\n",
       "</div>"
      ],
      "text/plain": [
       "   PassengerId  Survived  Pclass  \\\n",
       "0            1         0       3   \n",
       "1            2         1       1   \n",
       "2            3         1       3   \n",
       "3            4         1       1   \n",
       "4            5         0       3   \n",
       "\n",
       "                                                Name     Sex   Age  SibSp  \\\n",
       "0                            Braund, Mr. Owen Harris    male  22.0      1   \n",
       "1  Cumings, Mrs. John Bradley (Florence Briggs Th...  female  38.0      1   \n",
       "2                             Heikkinen, Miss. Laina  female  26.0      0   \n",
       "3       Futrelle, Mrs. Jacques Heath (Lily May Peel)  female  35.0      1   \n",
       "4                           Allen, Mr. William Henry    male  35.0      0   \n",
       "\n",
       "   Parch            Ticket     Fare Cabin Embarked  \n",
       "0      0         A/5 21171   7.2500   NaN        S  \n",
       "1      0          PC 17599  71.2833   C85        C  \n",
       "2      0  STON/O2. 3101282   7.9250   NaN        S  \n",
       "3      0            113803  53.1000  C123        S  \n",
       "4      0            373450   8.0500   NaN        S  "
      ]
     },
     "execution_count": 4,
     "metadata": {},
     "output_type": "execute_result"
    }
   ],
   "source": [
    "train.head()"
   ]
  },
  {
   "cell_type": "code",
   "execution_count": 5,
   "metadata": {},
   "outputs": [],
   "source": [
    "# Cabin column has too many missing values and Ticket column has too many unique values. So, these columns are droped\n",
    "train.drop(['PassengerId', 'Ticket', 'Cabin'], axis=1, inplace=True)\n",
    "train_features = train.drop(['Survived'], axis=1)\n",
    "train_labels = train['Survived']\n",
    "\n",
    "X_train, X_valid, y_train, y_valid = train_test_split(train_features, train_labels, test_size=0.2, random_state=7)"
   ]
  },
  {
   "cell_type": "markdown",
   "metadata": {},
   "source": [
    "## Data Preprocessing"
   ]
  },
  {
   "cell_type": "code",
   "execution_count": 6,
   "metadata": {},
   "outputs": [],
   "source": [
    "# Outlier detection \n",
    "def detect_outliers(data,n,features):\n",
    "    \"\"\"\n",
    "    Takes a dataframe(df) of features and returns a list of the indices\n",
    "    corresponding to the observations containing more than n outliers according\n",
    "    to the Tukey method.\n",
    "    \"\"\"\n",
    "    outlier_indices = []\n",
    "    \n",
    "    # iterate over features(feature)\n",
    "    for feature in features:\n",
    "        # 1st quartile (25%)\n",
    "        Q1 = np.percentile(data[feature], 25)\n",
    "        # 3rd quartile (75%)\n",
    "        Q3 = np.percentile(data[feature],75)\n",
    "        # Interquartile range (IQR)\n",
    "        IQR = Q3 - Q1\n",
    "        \n",
    "        # outlier step\n",
    "        outlier_step = 1.5 * IQR\n",
    "        \n",
    "        # Determine a list of indices of outliers for feature col\n",
    "        outlier_list_col = data[(data[feature] < Q1 - outlier_step) | (data[feature] > Q3 + outlier_step )].index\n",
    "        \n",
    "        # append the found outlier indices for col to the list of outlier indices \n",
    "        outlier_indices.extend(outlier_list_col)\n",
    "        \n",
    "    # select observations having more than n outliers\n",
    "    outlier_indices = Counter(outlier_indices)        \n",
    "    multiple_outliers = list( k for k, v in outlier_indices.items() if v > n )\n",
    "    \n",
    "    return multiple_outliers   \n",
    "\n",
    "# we take n = 2 to give the datapoint another chance if it have missing value in age column\n",
    "Outliers_to_drop = detect_outliers(X_train,2,[\"Age\",\"SibSp\",\"Parch\",\"Fare\"])"
   ]
  },
  {
   "cell_type": "code",
   "execution_count": 7,
   "metadata": {},
   "outputs": [
    {
     "data": {
      "text/html": [
       "<div>\n",
       "<style scoped>\n",
       "    .dataframe tbody tr th:only-of-type {\n",
       "        vertical-align: middle;\n",
       "    }\n",
       "\n",
       "    .dataframe tbody tr th {\n",
       "        vertical-align: top;\n",
       "    }\n",
       "\n",
       "    .dataframe thead th {\n",
       "        text-align: right;\n",
       "    }\n",
       "</style>\n",
       "<table border=\"1\" class=\"dataframe\">\n",
       "  <thead>\n",
       "    <tr style=\"text-align: right;\">\n",
       "      <th></th>\n",
       "      <th>Pclass</th>\n",
       "      <th>Name</th>\n",
       "      <th>Sex</th>\n",
       "      <th>Age</th>\n",
       "      <th>SibSp</th>\n",
       "      <th>Parch</th>\n",
       "      <th>Fare</th>\n",
       "      <th>Embarked</th>\n",
       "    </tr>\n",
       "  </thead>\n",
       "  <tbody>\n",
       "    <tr>\n",
       "      <th>324</th>\n",
       "      <td>3</td>\n",
       "      <td>Sage, Mr. George John Jr</td>\n",
       "      <td>male</td>\n",
       "      <td>NaN</td>\n",
       "      <td>8</td>\n",
       "      <td>2</td>\n",
       "      <td>69.55</td>\n",
       "      <td>S</td>\n",
       "    </tr>\n",
       "    <tr>\n",
       "      <th>27</th>\n",
       "      <td>1</td>\n",
       "      <td>Fortune, Mr. Charles Alexander</td>\n",
       "      <td>male</td>\n",
       "      <td>19.0</td>\n",
       "      <td>3</td>\n",
       "      <td>2</td>\n",
       "      <td>263.00</td>\n",
       "      <td>S</td>\n",
       "    </tr>\n",
       "    <tr>\n",
       "      <th>88</th>\n",
       "      <td>1</td>\n",
       "      <td>Fortune, Miss. Mabel Helen</td>\n",
       "      <td>female</td>\n",
       "      <td>23.0</td>\n",
       "      <td>3</td>\n",
       "      <td>2</td>\n",
       "      <td>263.00</td>\n",
       "      <td>S</td>\n",
       "    </tr>\n",
       "    <tr>\n",
       "      <th>792</th>\n",
       "      <td>3</td>\n",
       "      <td>Sage, Miss. Stella Anna</td>\n",
       "      <td>female</td>\n",
       "      <td>NaN</td>\n",
       "      <td>8</td>\n",
       "      <td>2</td>\n",
       "      <td>69.55</td>\n",
       "      <td>S</td>\n",
       "    </tr>\n",
       "    <tr>\n",
       "      <th>341</th>\n",
       "      <td>1</td>\n",
       "      <td>Fortune, Miss. Alice Elizabeth</td>\n",
       "      <td>female</td>\n",
       "      <td>24.0</td>\n",
       "      <td>3</td>\n",
       "      <td>2</td>\n",
       "      <td>263.00</td>\n",
       "      <td>S</td>\n",
       "    </tr>\n",
       "    <tr>\n",
       "      <th>180</th>\n",
       "      <td>3</td>\n",
       "      <td>Sage, Miss. Constance Gladys</td>\n",
       "      <td>female</td>\n",
       "      <td>NaN</td>\n",
       "      <td>8</td>\n",
       "      <td>2</td>\n",
       "      <td>69.55</td>\n",
       "      <td>S</td>\n",
       "    </tr>\n",
       "    <tr>\n",
       "      <th>863</th>\n",
       "      <td>3</td>\n",
       "      <td>Sage, Miss. Dorothy Edith \"Dolly\"</td>\n",
       "      <td>female</td>\n",
       "      <td>NaN</td>\n",
       "      <td>8</td>\n",
       "      <td>2</td>\n",
       "      <td>69.55</td>\n",
       "      <td>S</td>\n",
       "    </tr>\n",
       "    <tr>\n",
       "      <th>201</th>\n",
       "      <td>3</td>\n",
       "      <td>Sage, Mr. Frederick</td>\n",
       "      <td>male</td>\n",
       "      <td>NaN</td>\n",
       "      <td>8</td>\n",
       "      <td>2</td>\n",
       "      <td>69.55</td>\n",
       "      <td>S</td>\n",
       "    </tr>\n",
       "  </tbody>\n",
       "</table>\n",
       "</div>"
      ],
      "text/plain": [
       "     Pclass                               Name     Sex   Age  SibSp  Parch  \\\n",
       "324       3           Sage, Mr. George John Jr    male   NaN      8      2   \n",
       "27        1     Fortune, Mr. Charles Alexander    male  19.0      3      2   \n",
       "88        1         Fortune, Miss. Mabel Helen  female  23.0      3      2   \n",
       "792       3            Sage, Miss. Stella Anna  female   NaN      8      2   \n",
       "341       1     Fortune, Miss. Alice Elizabeth  female  24.0      3      2   \n",
       "180       3       Sage, Miss. Constance Gladys  female   NaN      8      2   \n",
       "863       3  Sage, Miss. Dorothy Edith \"Dolly\"  female   NaN      8      2   \n",
       "201       3                Sage, Mr. Frederick    male   NaN      8      2   \n",
       "\n",
       "       Fare Embarked  \n",
       "324   69.55        S  \n",
       "27   263.00        S  \n",
       "88   263.00        S  \n",
       "792   69.55        S  \n",
       "341  263.00        S  \n",
       "180   69.55        S  \n",
       "863   69.55        S  \n",
       "201   69.55        S  "
      ]
     },
     "execution_count": 7,
     "metadata": {},
     "output_type": "execute_result"
    }
   ],
   "source": [
    "X_train.loc[Outliers_to_drop]"
   ]
  },
  {
   "cell_type": "code",
   "execution_count": 8,
   "metadata": {},
   "outputs": [],
   "source": [
    "X_train = X_train.drop(Outliers_to_drop, axis=0).reset_index(drop=True)\n",
    "y_train = y_train.drop(Outliers_to_drop, axis=0).reset_index(drop=True)"
   ]
  },
  {
   "cell_type": "code",
   "execution_count": 9,
   "metadata": {
    "scrolled": false
   },
   "outputs": [
    {
     "data": {
      "text/plain": [
       "Survived      0\n",
       "Pclass        0\n",
       "Name          0\n",
       "Sex           0\n",
       "Age         177\n",
       "SibSp         0\n",
       "Parch         0\n",
       "Fare          0\n",
       "Embarked      2\n",
       "dtype: int64"
      ]
     },
     "execution_count": 9,
     "metadata": {},
     "output_type": "execute_result"
    }
   ],
   "source": [
    "# Checking for missing values\n",
    "train.isnull().sum()"
   ]
  },
  {
   "cell_type": "markdown",
   "metadata": {},
   "source": [
    "### Embarked"
   ]
  },
  {
   "cell_type": "code",
   "execution_count": 10,
   "metadata": {
    "scrolled": false
   },
   "outputs": [
    {
     "data": {
      "text/plain": [
       "<AxesSubplot:xlabel='Embarked', ylabel='count'>"
      ]
     },
     "execution_count": 10,
     "metadata": {},
     "output_type": "execute_result"
    },
    {
     "data": {
      "image/png": "[encoded data removed]",
      "text/plain": [
       "<Figure size 432x288 with 1 Axes>"
      ]
     },
     "metadata": {
      "needs_background": "light"
     },
     "output_type": "display_data"
    }
   ],
   "source": [
    "# Ploting count of passengers embarked from various ports\n",
    "sns.countplot(x='Embarked', data= train)"
   ]
  },
  {
   "cell_type": "markdown",
   "metadata": {},
   "source": [
    "Countplot shows that maximum passengers embarked from Southampton(S) also we just have 2 missing values.  \n",
    "So, filling missing values with S"
   ]
  },
  {
   "cell_type": "markdown",
   "metadata": {},
   "source": [
    "### Fare"
   ]
  },
  {
   "cell_type": "code",
   "execution_count": 11,
   "metadata": {
    "scrolled": true
   },
   "outputs": [
    {
     "data": {
      "text/plain": [
       "Text(0.5, 0, 'Fare')"
      ]
     },
     "execution_count": 11,
     "metadata": {},
     "output_type": "execute_result"
    },
    {
     "data": {
      "image/png": "[encoded data removed]",
      "text/plain": [
       "<Figure size 432x288 with 1 Axes>"
      ]
     },
     "metadata": {
      "needs_background": "light"
     },
     "output_type": "display_data"
    }
   ],
   "source": [
    "X_train['Fare'].hist(bins=30)\n",
    "plt.xlabel('Fare')"
   ]
  },
  {
   "cell_type": "markdown",
   "metadata": {},
   "source": [
    "As we can see Fare column has a huge tail on right side. Lets try to reduce this using log transform."
   ]
  },
  {
   "cell_type": "markdown",
   "metadata": {},
   "source": [
    "### Titles"
   ]
  },
  {
   "cell_type": "code",
   "execution_count": 12,
   "metadata": {
    "scrolled": false
   },
   "outputs": [
    {
     "data": {
      "text/plain": [
       "<seaborn.axisgrid.FacetGrid at 0x22018a75460>"
      ]
     },
     "execution_count": 12,
     "metadata": {},
     "output_type": "execute_result"
    },
    {
     "data": {
      "image/png": "[encoded data removed]",
      "text/plain": [
       "<Figure size 1080x360 with 1 Axes>"
      ]
     },
     "metadata": {
      "needs_background": "light"
     },
     "output_type": "display_data"
    }
   ],
   "source": [
    "titles = [i.split(',')[1].split('.')[0][1:] for i in train['Name']]\n",
    "train['Title'] = pd.Series(titles)\n",
    "sns.catplot(x=\"Title\",y=\"Survived\",data=train,kind=\"bar\", aspect=3)"
   ]
  },
  {
   "cell_type": "code",
   "execution_count": 13,
   "metadata": {
    "scrolled": true
   },
   "outputs": [
    {
     "data": {
      "text/plain": [
       "Mr              517\n",
       "Miss            182\n",
       "Mrs             125\n",
       "Master           40\n",
       "Dr                7\n",
       "Rev               6\n",
       "Col               2\n",
       "Mlle              2\n",
       "Major             2\n",
       "Jonkheer          1\n",
       "Sir               1\n",
       "Ms                1\n",
       "the Countess      1\n",
       "Lady              1\n",
       "Mme               1\n",
       "Capt              1\n",
       "Don               1\n",
       "Name: Title, dtype: int64"
      ]
     },
     "execution_count": 13,
     "metadata": {},
     "output_type": "execute_result"
    }
   ],
   "source": [
    "train['Title'].value_counts()"
   ]
  },
  {
   "cell_type": "markdown",
   "metadata": {},
   "source": [
    "We can see here that some of the titles have more survival probability than others.  \n",
    "Some are very rare on ship.  "
   ]
  },
  {
   "cell_type": "code",
   "execution_count": 14,
   "metadata": {},
   "outputs": [
    {
     "data": {
      "text/plain": [
       "<AxesSubplot:xlabel='Survived', ylabel='count'>"
      ]
     },
     "execution_count": 14,
     "metadata": {},
     "output_type": "execute_result"
    },
    {
     "data": {
      "image/png": "[encoded data removed]",
      "text/plain": [
       "<Figure size 432x288 with 1 Axes>"
      ]
     },
     "metadata": {
      "needs_background": "light"
     },
     "output_type": "display_data"
    }
   ],
   "source": [
    "sns.countplot(data= train, x= 'Survived', hue='Sex')"
   ]
  },
  {
   "cell_type": "markdown",
   "metadata": {},
   "source": [
    "All the female titles have very high survival probability (we can confirm this from above graph).  \n",
    "Based on this lets create small groups of titles."
   ]
  },
  {
   "cell_type": "markdown",
   "metadata": {},
   "source": [
    "### Preprocessing Function"
   ]
  },
  {
   "cell_type": "code",
   "execution_count": 15,
   "metadata": {},
   "outputs": [],
   "source": [
    "# Creating a dictionary having medians of the Age grouped by the Pclass column\n",
    "age_grpby_pclass = {}\n",
    "pclass_category = X_train['Pclass'].unique()\n",
    "for category in pclass_category:\n",
    "    age_grpby_pclass[category] = X_train['Age'].loc[train_features['Pclass'] == category].median()"
   ]
  },
  {
   "cell_type": "code",
   "execution_count": 16,
   "metadata": {},
   "outputs": [],
   "source": [
    "def preprocessing(data):\n",
    "    for category in pclass_category:\n",
    "        data.loc[(data['Age'].isnull()) & (data['Pclass'] == category), 'Age'] = age_grpby_pclass[category]\n",
    "    \n",
    "    # Countplot shows that maximum passengers embarked from Southampton(S) also we just have 2 missing values.\n",
    "    # So, filling missing values with S\n",
    "    data.Embarked = data.Embarked.fillna('S')\n",
    "    \n",
    "    # Log transform lessens the skewness present in data\n",
    "    data['Fare'] = data['Fare'].map(lambda x: np.log(x) if x>0 else 0)\n",
    "    \n",
    "    data['Title'] = [i.split(',')[1].split('.')[0][1:] for i in data['Name']]\n",
    "    data['Title'] = data['Title'].replace(['Dr', 'Capt', 'Don', 'Rev', 'Jonkheer', 'Major', 'Col', 'Sir'],'rare')\n",
    "    data['Title'] = data[\"Title\"].map({\"Master\":0, \n",
    "                                       \"Miss\":1, \n",
    "                                       \"Ms\" : 1 , \n",
    "                                       \"Mme\":1, \n",
    "                                       \"Mlle\":1, \n",
    "                                       \"Mrs\":1, \n",
    "                                       \"Lady\":1, \n",
    "                                       \"the Countess\":1,\n",
    "                                       \"Dona\":1,\n",
    "                                       \"Mr\":2, \n",
    "                                       \"rare\":3})\n",
    "    data['Title'] = data['Title'].astype(int)\n",
    "    data.drop(['Name'],axis=1,inplace=True)\n",
    "    \n",
    "    # Family size as a feature makes sense so why not\n",
    "    data['Family'] = data['SibSp'] + data['Parch'] + 1\n",
    "    data.drop(['SibSp','Parch'], axis=1, inplace=True)\n",
    "    Fcat = []\n",
    "    for i in list(data['Family']):\n",
    "        if i == 1:\n",
    "            Fcat.append('Single')\n",
    "        elif i ==2:\n",
    "            Fcat.append('Small')\n",
    "        elif i>=3 and i<=4:\n",
    "            Fcat.append('Med')\n",
    "        else:\n",
    "            Fcat.append('Large')\n",
    "\n",
    "    data['Family'] = Fcat\n",
    "    \n",
    "    # Encoding categorical variables\n",
    "    data = pd.get_dummies(data, columns = [\"Sex\", \"Embarked\", \"Title\", \"Family\"], drop_first=True)\n",
    "    \n",
    "    # Creating squares of existing columns\n",
    "    for col in data.columns:\n",
    "        data[col + '_sq'] = np.square(data[col])\n",
    "    \n",
    "    return data"
   ]
  },
  {
   "cell_type": "code",
   "execution_count": 17,
   "metadata": {},
   "outputs": [
    {
     "data": {
      "text/html": [
       "<div>\n",
       "<style scoped>\n",
       "    .dataframe tbody tr th:only-of-type {\n",
       "        vertical-align: middle;\n",
       "    }\n",
       "\n",
       "    .dataframe tbody tr th {\n",
       "        vertical-align: top;\n",
       "    }\n",
       "\n",
       "    .dataframe thead th {\n",
       "        text-align: right;\n",
       "    }\n",
       "</style>\n",
       "<table border=\"1\" class=\"dataframe\">\n",
       "  <thead>\n",
       "    <tr style=\"text-align: right;\">\n",
       "      <th></th>\n",
       "      <th>Pclass</th>\n",
       "      <th>Age</th>\n",
       "      <th>Fare</th>\n",
       "      <th>Sex_male</th>\n",
       "      <th>Embarked_Q</th>\n",
       "      <th>Embarked_S</th>\n",
       "      <th>Title_1</th>\n",
       "      <th>Title_2</th>\n",
       "      <th>Title_3</th>\n",
       "      <th>Family_Med</th>\n",
       "      <th>...</th>\n",
       "      <th>Fare_sq</th>\n",
       "      <th>Sex_male_sq</th>\n",
       "      <th>Embarked_Q_sq</th>\n",
       "      <th>Embarked_S_sq</th>\n",
       "      <th>Title_1_sq</th>\n",
       "      <th>Title_2_sq</th>\n",
       "      <th>Title_3_sq</th>\n",
       "      <th>Family_Med_sq</th>\n",
       "      <th>Family_Single_sq</th>\n",
       "      <th>Family_Small_sq</th>\n",
       "    </tr>\n",
       "  </thead>\n",
       "  <tbody>\n",
       "    <tr>\n",
       "      <th>0</th>\n",
       "      <td>3</td>\n",
       "      <td>2.0</td>\n",
       "      <td>2.347797</td>\n",
       "      <td>0</td>\n",
       "      <td>0</td>\n",
       "      <td>1</td>\n",
       "      <td>1</td>\n",
       "      <td>0</td>\n",
       "      <td>0</td>\n",
       "      <td>0</td>\n",
       "      <td>...</td>\n",
       "      <td>5.512153</td>\n",
       "      <td>0</td>\n",
       "      <td>0</td>\n",
       "      <td>1</td>\n",
       "      <td>1</td>\n",
       "      <td>0</td>\n",
       "      <td>0</td>\n",
       "      <td>0</td>\n",
       "      <td>0</td>\n",
       "      <td>1</td>\n",
       "    </tr>\n",
       "    <tr>\n",
       "      <th>1</th>\n",
       "      <td>3</td>\n",
       "      <td>28.0</td>\n",
       "      <td>2.740840</td>\n",
       "      <td>1</td>\n",
       "      <td>1</td>\n",
       "      <td>0</td>\n",
       "      <td>0</td>\n",
       "      <td>1</td>\n",
       "      <td>0</td>\n",
       "      <td>0</td>\n",
       "      <td>...</td>\n",
       "      <td>7.512204</td>\n",
       "      <td>1</td>\n",
       "      <td>1</td>\n",
       "      <td>0</td>\n",
       "      <td>0</td>\n",
       "      <td>1</td>\n",
       "      <td>0</td>\n",
       "      <td>0</td>\n",
       "      <td>1</td>\n",
       "      <td>0</td>\n",
       "    </tr>\n",
       "    <tr>\n",
       "      <th>2</th>\n",
       "      <td>1</td>\n",
       "      <td>39.0</td>\n",
       "      <td>4.420746</td>\n",
       "      <td>0</td>\n",
       "      <td>0</td>\n",
       "      <td>0</td>\n",
       "      <td>1</td>\n",
       "      <td>0</td>\n",
       "      <td>0</td>\n",
       "      <td>1</td>\n",
       "      <td>...</td>\n",
       "      <td>19.542995</td>\n",
       "      <td>0</td>\n",
       "      <td>0</td>\n",
       "      <td>0</td>\n",
       "      <td>1</td>\n",
       "      <td>0</td>\n",
       "      <td>0</td>\n",
       "      <td>1</td>\n",
       "      <td>0</td>\n",
       "      <td>0</td>\n",
       "    </tr>\n",
       "    <tr>\n",
       "      <th>3</th>\n",
       "      <td>3</td>\n",
       "      <td>74.0</td>\n",
       "      <td>2.050913</td>\n",
       "      <td>1</td>\n",
       "      <td>0</td>\n",
       "      <td>1</td>\n",
       "      <td>0</td>\n",
       "      <td>1</td>\n",
       "      <td>0</td>\n",
       "      <td>0</td>\n",
       "      <td>...</td>\n",
       "      <td>4.206246</td>\n",
       "      <td>1</td>\n",
       "      <td>0</td>\n",
       "      <td>1</td>\n",
       "      <td>0</td>\n",
       "      <td>1</td>\n",
       "      <td>0</td>\n",
       "      <td>0</td>\n",
       "      <td>1</td>\n",
       "      <td>0</td>\n",
       "    </tr>\n",
       "    <tr>\n",
       "      <th>4</th>\n",
       "      <td>3</td>\n",
       "      <td>28.0</td>\n",
       "      <td>1.977547</td>\n",
       "      <td>1</td>\n",
       "      <td>0</td>\n",
       "      <td>0</td>\n",
       "      <td>0</td>\n",
       "      <td>1</td>\n",
       "      <td>0</td>\n",
       "      <td>0</td>\n",
       "      <td>...</td>\n",
       "      <td>3.910693</td>\n",
       "      <td>1</td>\n",
       "      <td>0</td>\n",
       "      <td>0</td>\n",
       "      <td>0</td>\n",
       "      <td>1</td>\n",
       "      <td>0</td>\n",
       "      <td>0</td>\n",
       "      <td>1</td>\n",
       "      <td>0</td>\n",
       "    </tr>\n",
       "  </tbody>\n",
       "</table>\n",
       "<p>5 rows × 24 columns</p>\n",
       "</div>"
      ],
      "text/plain": [
       "   Pclass   Age      Fare  Sex_male  Embarked_Q  Embarked_S  Title_1  Title_2  \\\n",
       "0       3   2.0  2.347797         0           0           1        1        0   \n",
       "1       3  28.0  2.740840         1           1           0        0        1   \n",
       "2       1  39.0  4.420746         0           0           0        1        0   \n",
       "3       3  74.0  2.050913         1           0           1        0        1   \n",
       "4       3  28.0  1.977547         1           0           0        0        1   \n",
       "\n",
       "   Title_3  Family_Med  ...    Fare_sq  Sex_male_sq  Embarked_Q_sq  \\\n",
       "0        0           0  ...   5.512153            0              0   \n",
       "1        0           0  ...   7.512204            1              1   \n",
       "2        0           1  ...  19.542995            0              0   \n",
       "3        0           0  ...   4.206246            1              0   \n",
       "4        0           0  ...   3.910693            1              0   \n",
       "\n",
       "   Embarked_S_sq  Title_1_sq  Title_2_sq  Title_3_sq  Family_Med_sq  \\\n",
       "0              1           1           0           0              0   \n",
       "1              0           0           1           0              0   \n",
       "2              0           1           0           0              1   \n",
       "3              1           0           1           0              0   \n",
       "4              0           0           1           0              0   \n",
       "\n",
       "   Family_Single_sq  Family_Small_sq  \n",
       "0                 0                1  \n",
       "1                 1                0  \n",
       "2                 0                0  \n",
       "3                 1                0  \n",
       "4                 1                0  \n",
       "\n",
       "[5 rows x 24 columns]"
      ]
     },
     "execution_count": 17,
     "metadata": {},
     "output_type": "execute_result"
    }
   ],
   "source": [
    "X_train = preprocessing(X_train.copy())\n",
    "X_valid = preprocessing(X_valid.copy())\n",
    "X_train.head()"
   ]
  },
  {
   "cell_type": "markdown",
   "metadata": {},
   "source": [
    "### Normalizing Data"
   ]
  },
  {
   "cell_type": "code",
   "execution_count": 18,
   "metadata": {},
   "outputs": [],
   "source": [
    "from sklearn.preprocessing import StandardScaler\n",
    "sc = StandardScaler()\n",
    "X_train = sc.fit_transform(X_train)\n",
    "X_valid = sc.transform(X_valid)"
   ]
  },
  {
   "cell_type": "markdown",
   "metadata": {},
   "source": [
    "## Training ML Models"
   ]
  },
  {
   "cell_type": "markdown",
   "metadata": {},
   "source": [
    "### Base Performance"
   ]
  },
  {
   "cell_type": "code",
   "execution_count": 19,
   "metadata": {
    "scrolled": true
   },
   "outputs": [
    {
     "name": "stdout",
     "output_type": "stream",
     "text": [
      "LogisticRegression: 0.8408409321175279\n",
      "KNeighborsClassifier: 0.8394528875379939\n",
      "SVC: 0.8394123606889565\n",
      "RandomForestClassifier: 0.8238196555217832\n",
      "ExtraTreesClassifier: 0.8039614994934144\n",
      "AdaBoostClassifier: 0.8238297872340425\n",
      "GradientBoostingClassifier: 0.8323302938196555\n"
     ]
    }
   ],
   "source": [
    "# Logistic Regression classifier\n",
    "log_reg = LogisticRegression()\n",
    "# K nearest neighbors classifier\n",
    "knn = KNeighborsClassifier()\n",
    "# Support Vector Machine Classifier\n",
    "svm = SVC(probability=True)\n",
    "# Random Forest Classifier\n",
    "rndf = RandomForestClassifier()\n",
    "# Extra Trees Classifier\n",
    "extree = ExtraTreesClassifier()\n",
    "# AdaBoosting Classifier\n",
    "ada_clf = AdaBoostClassifier()\n",
    "# Gradient Boosting Classifier\n",
    "gradb_clf = GradientBoostingClassifier()\n",
    "\n",
    "estimators = [log_reg, knn, svm, rndf, extree, ada_clf, gradb_clf]\n",
    "for estimator in estimators:\n",
    "    print(estimator.__class__.__name__, end=': ')\n",
    "    print(np.mean(cross_val_score(estimator, X_train, y_train, scoring='accuracy', cv=5, n_jobs=-1)))"
   ]
  },
  {
   "cell_type": "markdown",
   "metadata": {},
   "source": [
    "### Hyperparameter tunning of Logistic Regression classifier"
   ]
  },
  {
   "cell_type": "code",
   "execution_count": 20,
   "metadata": {},
   "outputs": [],
   "source": [
    "# Function for validation using accuracy as measure\n",
    "def accuracy_cv(model):\n",
    "    acc = cross_val_score(model, X_train, y_train, scoring=\"accuracy\", cv = 5)\n",
    "    return(acc)"
   ]
  },
  {
   "cell_type": "code",
   "execution_count": 21,
   "metadata": {},
   "outputs": [],
   "source": [
    "regularization_C = np.arange(0.1, 2, 0.1)\n",
    "cv_logreg = [accuracy_cv(LogisticRegression(C=c, random_state=7)).mean() for c in regularization_C]"
   ]
  },
  {
   "cell_type": "code",
   "execution_count": 22,
   "metadata": {},
   "outputs": [
    {
     "data": {
      "text/plain": [
       "Text(0, 0.5, 'accuracy')"
      ]
     },
     "execution_count": 22,
     "metadata": {},
     "output_type": "execute_result"
    },
    {
     "data": {
      "image/png": "[encoded data removed]",
      "text/plain": [
       "<Figure size 432x288 with 1 Axes>"
      ]
     },
     "metadata": {
      "needs_background": "light"
     },
     "output_type": "display_data"
    }
   ],
   "source": [
    "cv_logreg = pd.Series(cv_logreg, index = regularization_C)\n",
    "cv_logreg.plot(title = \"Validation - Just Do It\")\n",
    "plt.xlabel(\"C\")\n",
    "plt.ylabel(\"accuracy\")"
   ]
  },
  {
   "cell_type": "markdown",
   "metadata": {},
   "source": [
    "### Hyperparameter Tuning for rest of the models"
   ]
  },
  {
   "cell_type": "code",
   "execution_count": 23,
   "metadata": {},
   "outputs": [],
   "source": [
    "# hyperparameter_tuning function uses gridsearch to find the best hyperparameter values for all the estimators in model_ls\n",
    "\n",
    "def hyperparameter_tuning(model_ls, parameter_grids):\n",
    "    for i in range(len(model_ls)):\n",
    "        grid_search = GridSearchCV(model_ls[i], \n",
    "                                   param_grid=parameter_grids[i], \n",
    "                                   scoring='accuracy', \n",
    "                                   cv=7, \n",
    "                                   verbose=0, \n",
    "                                   n_jobs=-1\n",
    "                                  )\n",
    "        print(model_ls[i].__class__.__name__)\n",
    "        grid_search.fit(X_train, y_train)\n",
    "        print('  Best Estimator: ', grid_search.best_estimator_)\n",
    "        print('  Best mean score: ', grid_search.best_score_, end='\\n\\n')"
   ]
  },
  {
   "cell_type": "code",
   "execution_count": 24,
   "metadata": {},
   "outputs": [
    {
     "name": "stdout",
     "output_type": "stream",
     "text": [
      "KNeighborsClassifier\n",
      "  Best Estimator:  KNeighborsClassifier(algorithm='ball_tree', n_neighbors=4)\n",
      "  Best mean score:  0.8423903818953324\n",
      "\n",
      "SVC\n",
      "  Best Estimator:  SVC(C=0.4, degree=1, kernel='poly', random_state=7)\n",
      "  Best mean score:  0.8437623762376238\n",
      "\n",
      "RandomForestClassifier\n",
      "  Best Estimator:  RandomForestClassifier(min_samples_split=10, n_estimators=150, random_state=7)\n",
      "  Best mean score:  0.8537482319660538\n",
      "\n",
      "ExtraTreesClassifier\n",
      "  Best Estimator:  ExtraTreesClassifier(min_samples_split=12, random_state=7)\n",
      "  Best mean score:  0.8423762376237625\n",
      "\n",
      "AdaBoostClassifier\n",
      "  Best Estimator:  AdaBoostClassifier(base_estimator=DecisionTreeClassifier(criterion='entropy',\n",
      "                                                         splitter='random'),\n",
      "                   learning_rate=0.001, n_estimators=18, random_state=43)\n",
      "  Best mean score:  0.8239745403111739\n",
      "\n",
      "GradientBoostingClassifier\n",
      "  Best Estimator:  GradientBoostingClassifier(max_depth=4, n_estimators=60, random_state=43)\n",
      "  Best mean score:  0.8438189533239039\n",
      "\n"
     ]
    }
   ],
   "source": [
    "# Parameter grid for KNeighbors\n",
    "knn_params = [{'n_neighbors':np.arange(3, 8), \n",
    "               'weights':['uniform', 'distance'], \n",
    "               'p':[1, 2], \n",
    "               'algorithm':['ball_tree', 'kd_tree']\n",
    "              }]\n",
    "\n",
    "# Parameter grid for SVC\n",
    "svm_params = [{'C':np.arange(0.3, 1, 0.1), \n",
    "               'kernel':['rbf']\n",
    "              }, \n",
    "              {'C':np.arange(0.3, 1, 0.1), \n",
    "               'kernel':['poly'], \n",
    "               'degree':[1, 2, 3]\n",
    "              }]\n",
    "\n",
    "# Parameter grid for Random Forest classifier\n",
    "rndf_params = [{'n_estimators':np.arange(100, 301, 50), \n",
    "                'min_samples_split':np.arange(2, 15), \n",
    "                'min_samples_leaf':[1, 2, 3, 4]\n",
    "               }]\n",
    "\n",
    "# Parameter grid for Extra Trees classifier\n",
    "extree_params = [{'n_estimators':np.arange(100, 301, 50), \n",
    "                  'min_samples_split':np.arange(2, 15), \n",
    "                  'min_samples_leaf':[1, 2, 3, 4]\n",
    "                 }]\n",
    "\n",
    "# Parameter grid for Gradient Boosting classifier\n",
    "gradb_params = [{'n_estimators': np.arange(50, 150, 10),\n",
    "                 'max_depth':[1, 2, 3, 4, 5, 6]\n",
    "                }]\n",
    "\n",
    "# Parameter grid for Adaptive Boosting classifier\n",
    "ada_params = [{\"base_estimator__criterion\" : [\"gini\", \"entropy\"],\n",
    "               \"base_estimator__splitter\" :   [\"best\", \"random\"],\n",
    "               \"algorithm\" : [\"SAMME\",\"SAMME.R\"],\n",
    "               \"n_estimators\" : np.arange(10, 20, 2),\n",
    "               \"learning_rate\": [0.0005, 0.001, 0.005, 0.01, 0.05, 0.1]\n",
    "              }]\n",
    "\n",
    "params_ls = [knn_params, svm_params, rndf_params, extree_params, ada_params, gradb_params]\n",
    "model_ls = [KNeighborsClassifier(), \n",
    "            SVC(random_state=7), \n",
    "            RandomForestClassifier(random_state=7),\n",
    "            ExtraTreesClassifier(random_state=7),\n",
    "            AdaBoostClassifier(base_estimator=DecisionTreeClassifier(), random_state=43),\n",
    "            GradientBoostingClassifier(random_state=43)\n",
    "           ]\n",
    "\n",
    "\n",
    "hyperparameter_tuning(model_ls, params_ls)"
   ]
  },
  {
   "cell_type": "markdown",
   "metadata": {},
   "source": [
    "### Finding the best model"
   ]
  },
  {
   "cell_type": "code",
   "execution_count": 26,
   "metadata": {},
   "outputs": [
    {
     "name": "stdout",
     "output_type": "stream",
     "text": [
      "Score on training data:\n",
      "   VotingClassifier: 0.8323302938196555\n"
     ]
    }
   ],
   "source": [
    "# Logistic Regression classifier\n",
    "log_reg = LogisticRegression(C=1.2, random_state=7)\n",
    "\n",
    "# K nearest neighbors classifier\n",
    "knn = KNeighborsClassifier(algorithm='ball_tree', n_neighbors=4)\n",
    "\n",
    "# Support Vector Machine Classifier\n",
    "svm = SVC(C=0.4, degree=1, kernel='poly', probability=True, random_state=7)\n",
    "\n",
    "# Random Forest Classifier\n",
    "rndf = RandomForestClassifier(min_samples_split=10, n_estimators=150, random_state=7)\n",
    "\n",
    "# Extra Trees Classifier\n",
    "extree = ExtraTreesClassifier(min_samples_split=12, random_state=7)\n",
    "\n",
    "# AdaBoosting Classifier\n",
    "ada_clf = AdaBoostClassifier(\n",
    "    DecisionTreeClassifier(criterion='entropy', splitter='random'), \n",
    "    learning_rate=0.001, \n",
    "    n_estimators=18, \n",
    "    random_state=43\n",
    ")\n",
    "\n",
    "# Gradient Boosting Classifier\n",
    "gradb_clf = GradientBoostingClassifier(max_depth=4, n_estimators=60, random_state=43)\n",
    "\n",
    "# Voting classifier with soft voting\n",
    "vot_clf = VotingClassifier(estimators=[('lr_clf', log_reg), \n",
    "                                       ('knn_clf', knn), \n",
    "                                       ('svm_clf', svm), \n",
    "                                       ('rndf_clf', rndf), \n",
    "                                       ('extree_clf', extree), \n",
    "                                       ('adab', ada_clf), \n",
    "                                       ('gradb', gradb_clf)],\n",
    "                           voting='soft', \n",
    "                           n_jobs=-1\n",
    "                          )\n",
    "# Voting classifier performance on training data using cross-validation\n",
    "print('Score on training data:\\n  ', vot_clf.__class__.__name__, end=': ')\n",
    "print(np.mean(cross_val_score(estimator, X_train, y_train, scoring='accuracy', cv=5, n_jobs=-1)))"
   ]
  },
  {
   "cell_type": "code",
   "execution_count": 29,
   "metadata": {},
   "outputs": [
    {
     "name": "stdout",
     "output_type": "stream",
     "text": [
      "Scores on unseen data:\n",
      "   LogisticRegression :  0.770949720670391\n",
      "   KNeighborsClassifier :  0.7541899441340782\n",
      "   SVC :  0.770949720670391\n",
      "   RandomForestClassifier :  0.770949720670391\n",
      "   ExtraTreesClassifier :  0.7541899441340782\n",
      "   AdaBoostClassifier :  0.7486033519553073\n",
      "   GradientBoostingClassifier :  0.7988826815642458\n",
      "   VotingClassifier :  0.7877094972067039\n"
     ]
    }
   ],
   "source": [
    "print('Scores on unseen data:')\n",
    "for estimator in estimators:\n",
    "    estimator.fit(X_train, y_train)\n",
    "    print('  ', estimator.__class__.__name__ , ': ', accuracy_score(y_valid, estimator.predict(X_valid)))\n",
    "\n",
    "vot_clf.fit(X_train, y_train)\n",
    "print('  ', vot_clf.__class__.__name__ , ': ', accuracy_score(y_valid, vot_clf.predict(X_valid)))"
   ]
  },
  {
   "cell_type": "markdown",
   "metadata": {},
   "source": [
    "Gradient Boosting classifier achieves the highest score. But, using voting classifier will be more reliable."
   ]
  }
 ],
 "metadata": {
  "kernelspec": {
   "display_name": "Python 3",
   "language": "python",
   "name": "python3"
  },
  "language_info": {
   "codemirror_mode": {
    "name": "ipython",
    "version": 3
   },
   "file_extension": ".py",
   "mimetype": "text/x-python",
   "name": "python",
   "nbconvert_exporter": "python",
   "pygments_lexer": "ipython3",
   "version": "3.8.10"
  }
 },
 "nbformat": 4,
 "nbformat_minor": 4
}
